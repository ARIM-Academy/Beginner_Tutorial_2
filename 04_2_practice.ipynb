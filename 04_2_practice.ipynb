{
  "nbformat": 4,
  "nbformat_minor": 0,
  "metadata": {
    "colab": {
      "provenance": []
    },
    "kernelspec": {
      "name": "python3",
      "display_name": "Python 3"
    },
    "language_info": {
      "name": "python"
    }
  },
  "cells": [
    {
      "cell_type": "markdown",
      "source": [
        "# データ構造化の代表的なデータ操作方法"
      ],
      "metadata": {
        "id": "Fn0oKgscebci"
      }
    },
    {
      "cell_type": "markdown",
      "source": [
        "# 練習問題\n",
        "「pandasによるデータ操作」の練習問題にチャレンジしてみましょう。\n",
        "\n",
        "はじめに、練習問題で使用するファイルを皆さんの環境にダウンロードするため、次のコードを実行してください。\n",
        "\n"
      ],
      "metadata": {
        "id": "zR7meCTb7BBH"
      }
    },
    {
      "cell_type": "code",
      "source": [
        "!wget https://github.com/tendo-sms/python_beginner_2023/raw/main/files_4/files.zip .\n",
        "!unzip files.zip\n",
        "!mv files/* ."
      ],
      "metadata": {
        "id": "WeV6C2XbTWaI"
      },
      "execution_count": null,
      "outputs": []
    },
    {
      "cell_type": "markdown",
      "source": [
        "カレントディレクトリに、「practice1.csv」というファイルがあります。内容は次のとおりです。なお、文字エンコーディングはCP932です。\n",
        "\n",
        "\n",
        "|measureID|date|operator|temperature|measureValue|measureUnit|memo|\n",
        "|---|---|---|---|---|---|---\n",
        "|MEA001|2022/11/1|Suzuki|25|1000|sec||\n",
        "|MEA002|2022/11/2|Yamada|20|Failure|sec|実験失敗|\n",
        "|MEA005|2022/11/6|Sasaki|15|8|hour||\n",
        "|MEA004|2022/11/5|Adam||Failure|sec|実験失敗|\n",
        "|MEA003|2022/11/4|Sato|R.T|900|sec||\n",
        "\n",
        "次の操作を行ってみてください。\n",
        "\n",
        "* ファイルを読み込んでデータフレームを作成する。\n",
        "* measureValueが\"Failure\"の行は削除する。\n",
        "* measureUnitが\"hour\"の行について、次の変更を行う。\n",
        "  * measureValueを秒単位の値に置き換える。\n",
        "  * measureUnitを\"sec\"に置き換える。\n",
        "* measureIDの昇順にソートする。\n",
        "\n",
        "結果が次のとおりとなることを確認してください。\n",
        "\n",
        "|measureID|date|operator|temperature|measureValue|measureUnit|memo|\n",
        "|---|---|---|---|---|---|---\n",
        "|MEA001|2022/11/1|Suzuki|25|1000|sec||\n",
        "|MEA003|2022/11/4|Sato|R.T|900|sec||\n",
        "|MEA005|2022/11/6|Sasaki|15|28800|sec||"
      ],
      "metadata": {
        "id": "ma6jEQJgTSc8"
      }
    },
    {
      "cell_type": "code",
      "source": [
        "import pandas as pd\n",
        "\n",
        "# プログラムを作成してみましょう"
      ],
      "metadata": {
        "id": "GZGxMjZC-hrS"
      },
      "execution_count": null,
      "outputs": []
    },
    {
      "cell_type": "markdown",
      "source": [
        "# 練習問題\n",
        "「辞書・リストの操作」の最後に、練習問題にチャレンジしてみましょう。\n",
        "\n",
        "あらかじめ、辞書を作成して変数dict_practiceに格納してあります。この辞書には、次のようなキーがあります。\n",
        "\n",
        "|キー|内容|\n",
        "|---|---|\n",
        "|date|測定日|\n",
        "|operator|測定者|\n",
        "|temperature|測定温度|\n",
        "|measureValue1|1回目の測定データ|\n",
        "|measureValue2|2回目の測定データ|\n",
        "|measureValue3|3回目の測定データ|\n",
        "|measureValue4|4回目の測定データ|\n",
        "\n",
        "for文を使って、measureValue1～measureValue4が示す4つの値のみを画面に出力してください。\n"
      ],
      "metadata": {
        "id": "r9u5mmR-Azb6"
      }
    },
    {
      "cell_type": "code",
      "source": [
        "# 辞書データの作成\n",
        "dict_practice = {\"date\":\"2023-01-06\", \"operator\":\"鈴木\", \"temperature\":18, \"measureValue1\":1000, \"measureValue2\":600, \"measureValue3\":1200, \"measureValue4\":800 }\n",
        "\n",
        "# プログラムを作成してみましょう"
      ],
      "metadata": {
        "id": "xBsjnQksA0Dn"
      },
      "execution_count": null,
      "outputs": []
    }
  ]
}